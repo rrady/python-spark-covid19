{
 "cells": [
  {
   "cell_type": "code",
   "execution_count": 1,
   "metadata": {},
   "outputs": [],
   "source": [
    "import os\n",
    "\n",
    "os.environ['PYSPARK_PYTHON'] = \"/usr/local/bin/python3\"\n",
    "os.environ['PYSPARK_PYTHON_DRIVER'] = \"/usr/local/bin/python3\"\n",
    "\n",
    "from pyspark.sql import SparkSession\n",
    "\n",
    "infer_schema = \"true\"\n",
    "first_row_is_header = \"true\"\n",
    "delimiter = \",\"\n",
    "\n",
    "csv_file_type = \"csv\"\n",
    "confirmed_cases_csv = \"time_series_covid19_confirmed_global_narrow.csv\"\n",
    "deaths_cases_csv = \"time_series_covid19_deaths_global_narrow.csv\"\n",
    "recovered_cases_csv = \"time_series_covid19_recovered_global_narrow.csv\"\n",
    "\n",
    "spark = SparkSession.builder.appName(\"covidel\").getOrCreate()\n",
    "\n",
    "confirmed = spark.read.format(csv_file_type).option(\"inferSchema\", infer_schema).option(\"header\", first_row_is_header).option(\"sep\", delimiter).load(confirmed_cases_csv)\n",
    "deaths = spark.read.format(csv_file_type).option(\"inferSchema\", infer_schema).option(\"header\", first_row_is_header).option(\"sep\", delimiter).load(deaths_cases_csv)\n",
    "recovered = spark.read.format(csv_file_type).option(\"inferSchema\", infer_schema).option(\"header\", first_row_is_header).option(\"sep\", delimiter).load(recovered_cases_csv)"
   ]
  },
  {
   "cell_type": "code",
   "execution_count": 2,
   "metadata": {},
   "outputs": [],
   "source": [
    "from pyspark.sql.functions import *\n",
    "\n",
    "confirmed = confirmed.select(\"Date\", col(\"Value\").alias(\"confirmed\")).filter(\"`Country/Region` = 'Romania'\")\n",
    "recovered = recovered.select(\"Date\", col(\"Value\").alias(\"recovered\")).filter(\"`Country/Region` = 'Romania'\")\n",
    "deaths = deaths.select(\"Date\", col(\"Value\").alias(\"deaths\")).filter(\"`Country/Region` = 'Romania'\")"
   ]
  },
  {
   "cell_type": "code",
   "execution_count": 3,
   "metadata": {},
   "outputs": [
    {
     "name": "stdout",
     "output_type": "stream",
     "text": [
      "+----+------+\n",
      "|days|active|\n",
      "+----+------+\n",
      "|  84|  5888|\n",
      "|  83|  5986|\n",
      "|  82|  5874|\n",
      "|  81|  6036|\n",
      "|  80|  5997|\n",
      "|  79|  6141|\n",
      "|  78|  7005|\n",
      "|  77|  7091|\n",
      "|  76|  7361|\n",
      "|  75|  7350|\n",
      "|  74|  7280|\n",
      "|  73|  7465|\n",
      "|  72|  7467|\n",
      "|  71|  7455|\n",
      "|  70|  7542|\n",
      "|  69|  7425|\n",
      "|  68|  7504|\n",
      "|  67|  7414|\n",
      "|  66|  7495|\n",
      "|  65|  7506|\n",
      "+----+------+\n",
      "only showing top 20 rows\n",
      "\n"
     ]
    }
   ],
   "source": [
    "from pyspark.sql.window import Window\n",
    "from pyspark.sql.types import *\n",
    "\n",
    "df = confirmed.join(recovered, \"Date\", \"outer\").join(deaths, \"Date\", \"outer\")\n",
    "df = df.orderBy('Date')\n",
    "df = df.where(\"confirmed>0\")\n",
    "\n",
    "df = df.withColumn(\"days\", row_number().over(Window.orderBy(col('Date').asc())))\n",
    "df = df.withColumn(\"active\", df['confirmed'] - df['recovered'] - df['deaths'])\n",
    "df = df.withColumn(\"active\", df[\"active\"].cast(IntegerType()))\n",
    "df = df.select(\"days\", \"active\")\n",
    "\n",
    "df.orderBy(df[\"days\"].desc()).show()"
   ]
  },
  {
   "cell_type": "code",
   "execution_count": 4,
   "metadata": {},
   "outputs": [],
   "source": [
    "from pyspark import SparkContext\n",
    "from pyspark.streaming import StreamingContext\n",
    "\n",
    "ssc = StreamingContext(spark.sparkContext, 1)\n",
    "\n",
    "lines = ssc.socketTextStream(\"localhost\", 5545)"
   ]
  },
  {
   "cell_type": "code",
   "execution_count": 5,
   "metadata": {},
   "outputs": [],
   "source": [
    "schema = StructType([StructField(\"days\", IntegerType(), True), StructField(\"active\", IntegerType(), True)])\n",
    "\n",
    "def processRDD(rdd):\n",
    "    if not rdd.isEmpty():\n",
    "        df_to_add = spark.createDataFrame(rdd, schema)\n",
    "        df_to_add.registerTempTable(\"cases\")"
   ]
  },
  {
   "cell_type": "code",
   "execution_count": 6,
   "metadata": {},
   "outputs": [
    {
     "name": "stdout",
     "output_type": "stream",
     "text": [
      "85\n"
     ]
    }
   ],
   "source": [
    "last_day = df.select(max(\"days\")).first()[0]\n",
    "last_day += 1\n",
    "print(last_day)\n",
    "\n",
    "lines.pprint()\n",
    "lines.map(lambda c: (last_day, int(c))).foreachRDD(lambda rdd: processRDD(rdd))"
   ]
  },
  {
   "cell_type": "code",
   "execution_count": 7,
   "metadata": {},
   "outputs": [
    {
     "name": "stdout",
     "output_type": "stream",
     "text": [
      "-------------------------------------------\n",
      "Time: 2020-05-21 12:00:26\n",
      "-------------------------------------------\n",
      "5880\n",
      "\n"
     ]
    }
   ],
   "source": [
    "ssc.start()\n",
    "ssc.awaitTermination(1)\n",
    "ssc.stop(False)"
   ]
  },
  {
   "cell_type": "code",
   "execution_count": 8,
   "metadata": {},
   "outputs": [
    {
     "name": "stdout",
     "output_type": "stream",
     "text": [
      "+----+------+\n",
      "|days|active|\n",
      "+----+------+\n",
      "|   1|     1|\n",
      "|   2|     1|\n",
      "|   3|     3|\n",
      "|   4|     3|\n",
      "|   5|     3|\n",
      "|   6|     3|\n",
      "|   7|     3|\n",
      "|   8|     3|\n",
      "|   9|     5|\n",
      "|  10|     8|\n",
      "|  11|     6|\n",
      "|  12|    12|\n",
      "|  13|    12|\n",
      "|  14|    22|\n",
      "|  15|    39|\n",
      "|  16|    43|\n",
      "|  17|    82|\n",
      "|  18|   114|\n",
      "|  19|   122|\n",
      "|  20|   149|\n",
      "|  21|   168|\n",
      "|  22|   241|\n",
      "|  23|   252|\n",
      "|  24|   283|\n",
      "|  25|   315|\n",
      "|  26|   366|\n",
      "|  27|   505|\n",
      "|  28|   704|\n",
      "|  29|   803|\n",
      "|  30|   912|\n",
      "|  31|  1151|\n",
      "|  32|  1276|\n",
      "|  33|  1566|\n",
      "|  34|  1835|\n",
      "|  35|  1943|\n",
      "|  36|  2116|\n",
      "|  37|  2356|\n",
      "|  38|  2767|\n",
      "|  39|  3138|\n",
      "|  40|  3339|\n",
      "|  41|  3475|\n",
      "|  42|  3760|\n",
      "|  43|  4013|\n",
      "|  44|  4307|\n",
      "|  45|  4468|\n",
      "|  46|  4941|\n",
      "|  47|  5132|\n",
      "|  48|  5388|\n",
      "|  49|  5477|\n",
      "|  50|  5627|\n",
      "|  51|  5958|\n",
      "|  52|  6148|\n",
      "|  53|  6267|\n",
      "|  54|  6403|\n",
      "|  55|  6441|\n",
      "|  56|  6591|\n",
      "|  57|  6780|\n",
      "|  58|  7073|\n",
      "|  59|  7033|\n",
      "|  60|  7144|\n",
      "|  61|  7363|\n",
      "|  62|  7557|\n",
      "|  63|  7549|\n",
      "|  64|  7716|\n",
      "|  65|  7506|\n",
      "|  66|  7495|\n",
      "|  67|  7414|\n",
      "|  68|  7504|\n",
      "|  69|  7425|\n",
      "|  70|  7542|\n",
      "|  71|  7455|\n",
      "|  72|  7467|\n",
      "|  73|  7465|\n",
      "|  74|  7280|\n",
      "|  75|  7350|\n",
      "|  76|  7361|\n",
      "|  77|  7091|\n",
      "|  78|  7005|\n",
      "|  79|  6141|\n",
      "|  80|  5997|\n",
      "|  81|  6036|\n",
      "|  82|  5874|\n",
      "|  83|  5986|\n",
      "|  84|  5888|\n",
      "|  85|  5880|\n",
      "|  86|      |\n",
      "|  87|      |\n",
      "|  88|      |\n",
      "|  89|      |\n",
      "|  90|      |\n",
      "+----+------+\n",
      "\n"
     ]
    }
   ],
   "source": [
    "from pyspark.sql import SQLContext\n",
    "\n",
    "sqlContext = SQLContext(spark.sparkContext)\n",
    "new_cases = sqlContext.sql('select days, active from cases').toDF(\"days\", \"active\")\n",
    "\n",
    "df = df.union(new_cases)\n",
    "\n",
    "df_future = df\n",
    "for i in range(5):\n",
    "    future_days = spark.createDataFrame([(last_day+i+1, '')])\n",
    "    df_future = df_future.union(future_days)\n",
    "\n",
    "df_future.show(100)"
   ]
  },
  {
   "cell_type": "code",
   "execution_count": 9,
   "metadata": {},
   "outputs": [],
   "source": [
    "from pyspark.ml import Pipeline\n",
    "from pyspark.ml.feature import VectorAssembler\n",
    "from pyspark.ml.feature import PolynomialExpansion\n",
    "from pyspark.ml.linalg import Vectors\n",
    "\n",
    "poliassembler = VectorAssembler(inputCols=[\"days\"], outputCol=\"poli_prep\")\n",
    "df = poliassembler.transform(df)\n",
    "df_future = poliassembler.transform(df_future)\n",
    "\n",
    "px = PolynomialExpansion(degree=5, inputCol=\"poli_prep\", outputCol=\"poli_fin\")\n",
    "df = px.transform(df)\n",
    "df_future = px.transform(df_future)\n",
    "\n",
    "stages = []\n",
    "assembler = VectorAssembler(inputCols=[\"poli_fin\"], outputCol=\"features\")\n",
    "stages += [assembler]\n",
    "\n",
    "pipeline = Pipeline(stages=stages)\n",
    "pipelineModel = pipeline.fit(df)\n",
    "\n",
    "df = pipelineModel.transform(df)\n",
    "df_future = pipelineModel.transform(df_future)"
   ]
  },
  {
   "cell_type": "code",
   "execution_count": 10,
   "metadata": {},
   "outputs": [
    {
     "name": "stdout",
     "output_type": "stream",
     "text": [
      "Coefficients: [136.523207749834,-16.86657281451688,0.7241287996109084,-0.010169680563138288,4.5612261418930275e-05] Intercept: -246.49625234025913\n"
     ]
    }
   ],
   "source": [
    "from pyspark.ml.regression import LinearRegression\n",
    "\n",
    "train_data, test_data = df.randomSplit([0.80,0.20])\n",
    "lr = LinearRegression(labelCol='active')\n",
    "lrModel = lr.fit(train_data)\n",
    "\n",
    "print(\"Coefficients: {} Intercept: {}\".format(lrModel.coefficients,lrModel.intercept))"
   ]
  },
  {
   "cell_type": "code",
   "execution_count": 11,
   "metadata": {},
   "outputs": [
    {
     "name": "stdout",
     "output_type": "stream",
     "text": [
      "RMSE: 158.45702776374694\n",
      "MSE: 25108.629647720867\n",
      "R2: 0.9972184317730399\n"
     ]
    }
   ],
   "source": [
    "test_results = lrModel.evaluate(test_data)\n",
    "\n",
    "print(\"RMSE: {}\".format(test_results.rootMeanSquaredError))\n",
    "print(\"MSE: {}\".format(test_results.meanSquaredError))\n",
    "print(\"R2: {}\".format(test_results.r2))"
   ]
  },
  {
   "cell_type": "code",
   "execution_count": 12,
   "metadata": {},
   "outputs": [
    {
     "name": "stdout",
     "output_type": "stream",
     "text": [
      "+----+------+---------+--------------------+--------------------+------------------+\n",
      "|days|active|poli_prep|            poli_fin|            features|        prediction|\n",
      "+----+------+---------+--------------------+--------------------+------------------+\n",
      "|  90|      |   [90.0]|[90.0,8100.0,7290...|[90.0,8100.0,7290...| 5414.348269048676|\n",
      "|  89|      |   [89.0]|[89.0,7921.0,7049...|[89.0,7921.0,7049...| 5425.332287706789|\n",
      "|  88|      |   [88.0]|[88.0,7744.0,6814...|[88.0,7744.0,6814...|  5465.74432479713|\n",
      "|  87|      |   [87.0]|[87.0,7569.0,6585...|[87.0,7569.0,6585...| 5531.404526784236|\n",
      "|  86|      |   [86.0]|[86.0,7396.0,6360...|[86.0,7396.0,6360...| 5618.370633279794|\n",
      "|  85|  5880|   [85.0]|[85.0,7225.0,6141...|[85.0,7225.0,6141...|5722.9325035712445|\n",
      "|  84|  5888|   [84.0]|[84.0,7056.0,5927...|[84.0,7056.0,5927...|   5841.6066431501|\n",
      "|  83|  5986|   [83.0]|[83.0,6889.0,5717...|[83.0,6889.0,5717...| 5971.130730241164|\n",
      "|  82|  5874|   [82.0]|[82.0,6724.0,5513...|[82.0,6724.0,5513...| 6108.458142330788|\n",
      "|  81|  6036|   [81.0]|[81.0,6561.0,5314...|[81.0,6561.0,5314...| 6250.752482695278|\n",
      "|  80|  5997|   [80.0]|[80.0,6400.0,5120...|[80.0,6400.0,5120...| 6395.382106929936|\n",
      "|  79|  6141|   [79.0]|[79.0,6241.0,4930...|[79.0,6241.0,4930...|   6539.9146494777|\n",
      "|  78|  7005|   [78.0]|[78.0,6084.0,4745...|[78.0,6084.0,4745...|   6682.1115501574|\n",
      "|  77|  7091|   [77.0]|[77.0,5929.0,4565...|[77.0,5929.0,4565...| 6819.922580692675|\n",
      "|  76|  7361|   [76.0]|[76.0,5776.0,4389...|[76.0,5776.0,4389...| 6951.480371240546|\n",
      "|  75|  7350|   [75.0]|[75.0,5625.0,4218...|[75.0,5625.0,4218...| 7075.094936919986|\n",
      "|  74|  7280|   [74.0]|[74.0,5476.0,4052...|[74.0,5476.0,4052...| 7189.248204340611|\n",
      "|  73|  7465|   [73.0]|[73.0,5329.0,3890...|[73.0,5329.0,3890...| 7292.588538131304|\n",
      "|  72|  7467|   [72.0]|[72.0,5184.0,3732...|[72.0,5184.0,3732...|7383.9252674689105|\n",
      "|  71|  7455|   [71.0]|[71.0,5041.0,3579...|[71.0,5041.0,3579...|7462.2232126065555|\n",
      "+----+------+---------+--------------------+--------------------+------------------+\n",
      "only showing top 20 rows\n",
      "\n"
     ]
    }
   ],
   "source": [
    "predictions = lrModel.transform(df_future)\n",
    "\n",
    "predictions.orderBy(predictions[\"days\"].desc()).show()"
   ]
  },
  {
   "cell_type": "code",
   "execution_count": 15,
   "metadata": {},
   "outputs": [
    {
     "data": {
      "image/png": "[encoded data removed]",
      "text/plain": [
       "<Figure size 432x288 with 1 Axes>"
      ]
     },
     "metadata": {
      "needs_background": "light"
     },
     "output_type": "display_data"
    },
    {
     "data": {
      "text/plain": [
       "<Figure size 6912x3456 with 0 Axes>"
      ]
     },
     "metadata": {},
     "output_type": "display_data"
    }
   ],
   "source": [
    "import matplotlib.pyplot as plt\n",
    "\n",
    "x = df.rdd.map(lambda p: (p.features[0])).collect()\n",
    "y = df.rdd.map(lambda p: (p.active)).collect()\n",
    "pred = predictions.select(\"prediction\").rdd.map(lambda r: r[0]).collect()\n",
    "\n",
    "fig, ax = plt.subplots()\n",
    "ax.scatter(x, y)\n",
    "plt.xlim(0, 100)\n",
    "plt.ylim(0, 10000)\n",
    "ax.plot(pred, '.r-')\n",
    "plt.figure(figsize=(96, 48))\n",
    "\n",
    "plt.show()"
   ]
  },
  {
   "cell_type": "code",
   "execution_count": null,
   "metadata": {},
   "outputs": [],
   "source": []
  }
 ],
 "metadata": {
  "kernelspec": {
   "display_name": "Python 3",
   "language": "python",
   "name": "python3"
  },
  "language_info": {
   "codemirror_mode": {
    "name": "ipython",
    "version": 3
   },
   "file_extension": ".py",
   "mimetype": "text/x-python",
   "name": "python",
   "nbconvert_exporter": "python",
   "pygments_lexer": "ipython3",
   "version": "3.7.7"
  }
 },
 "nbformat": 4,
 "nbformat_minor": 4
}
